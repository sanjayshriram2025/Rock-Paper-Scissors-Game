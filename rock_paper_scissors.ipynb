{
 "cells": [
  {
   "cell_type": "code",
   "execution_count": null,
   "id": "27f635a4-0622-4892-b399-d61f45ba5f9e",
   "metadata": {},
   "outputs": [
    {
     "name": "stdout",
     "output_type": "stream",
     "text": [
      " Welcome to SanjayShriram's Rock Paper Scissors Game!\n",
      " Instructions: Type 'rock', 'paper', or 'scissors' to play.\n"
     ]
    },
    {
     "name": "stdin",
     "output_type": "stream",
     "text": [
      "\n",
      " Your choice (rock/paper/scissors):  rock\n"
     ]
    },
    {
     "name": "stdout",
     "output_type": "stream",
     "text": [
      "Computer chose: scissors\n",
      " You win this round!\n",
      "Score => You: 1 | Computer: 0\n"
     ]
    },
    {
     "name": "stdin",
     "output_type": "stream",
     "text": [
      "\n",
      " Do you want to play again? (yes/no):  yes\n",
      "\n",
      " Your choice (rock/paper/scissors):  scissors\n"
     ]
    },
    {
     "name": "stdout",
     "output_type": "stream",
     "text": [
      "Computer chose: rock\n",
      " Computer wins this round.\n",
      "Score => You: 1 | Computer: 1\n"
     ]
    }
   ],
   "source": [
    "import random\n",
    "\n",
    "def play_game():\n",
    "    print(\" Welcome to SanjayShriram's Rock Paper Scissors Game!\")\n",
    "    print(\" Instructions: Type 'rock', 'paper', or 'scissors' to play.\")\n",
    "    \n",
    "    user_score = 0\n",
    "    computer_score = 0\n",
    "\n",
    "    choices = ['rock', 'paper', 'scissors']\n",
    "\n",
    "    while True:\n",
    "        user_choice = input(\"\\n Your choice (rock/paper/scissors): \").lower()\n",
    "\n",
    "        if user_choice not in choices:\n",
    "            print(\"Invalid choice. Please try again.\")\n",
    "            continue\n",
    "\n",
    "        computer_choice = random.choice(choices)\n",
    "        print(f\"Computer chose: {computer_choice}\")\n",
    "\n",
    "        \n",
    "        if user_choice == computer_choice:\n",
    "            print(\" It's a tie!\")\n",
    "        elif (\n",
    "            (user_choice == 'rock' and computer_choice == 'scissors') or\n",
    "            (user_choice == 'paper' and computer_choice == 'rock') or\n",
    "            (user_choice == 'scissors' and computer_choice == 'paper')\n",
    "        ):\n",
    "            print(\" You win this round!\")\n",
    "            user_score += 1\n",
    "        else:\n",
    "            print(\" Computer wins this round.\")\n",
    "            computer_score += 1\n",
    "\n",
    "        \n",
    "        print(f\"Score => You: {user_score} | Computer: {computer_score}\")\n",
    "\n",
    "        \n",
    "        again = input(\"\\n Do you want to play again? (yes/no): \").lower()\n",
    "        if again != 'yes':\n",
    "            print(\"\\n Final Score:\")\n",
    "            print(f\" You: {user_score} |  Computer: {computer_score}\")\n",
    "            if user_score > computer_score:\n",
    "                print(\" Congratulations! You won the game!\")\n",
    "            elif user_score < computer_score:\n",
    "                print(\" The computer won the game. Better luck next time!\")\n",
    "            else:\n",
    "                print(\" It's an overall tie!\")\n",
    "            break\n",
    "\n",
    "\n",
    "play_game()\n"
   ]
  },
  {
   "cell_type": "code",
   "execution_count": null,
   "id": "a9a9a177-51f0-4881-bc85-b0def5de12f6",
   "metadata": {},
   "outputs": [],
   "source": []
  }
 ],
 "metadata": {
  "kernelspec": {
   "display_name": "Python 3 (ipykernel)",
   "language": "python",
   "name": "python3"
  },
  "language_info": {
   "codemirror_mode": {
    "name": "ipython",
    "version": 3
   },
   "file_extension": ".py",
   "mimetype": "text/x-python",
   "name": "python",
   "nbconvert_exporter": "python",
   "pygments_lexer": "ipython3",
   "version": "3.13.5"
  }
 },
 "nbformat": 4,
 "nbformat_minor": 5
}
